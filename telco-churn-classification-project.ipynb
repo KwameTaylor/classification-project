{
 "cells": [
  {
   "cell_type": "markdown",
   "metadata": {},
   "source": [
    "# Telco Churn Classification Project\n",
    "\n",
    "### Kwame Taylor, Darden Cohort, Sept 2020"
   ]
  },
  {
   "cell_type": "markdown",
   "metadata": {},
   "source": [
    "Welcome!"
   ]
  },
  {
   "cell_type": "markdown",
   "metadata": {},
   "source": [
    "# Project Plan"
   ]
  },
  {
   "cell_type": "markdown",
   "metadata": {},
   "source": [
    "This project will use statistical testing and classification to create 3 models predict churn better than the baseline model, and see which of those 3 models is most accurate.\n",
    "\n",
    "I will create an MVP and then iterate through the data science pipeline until I get to the evaluation stage, which I will only do once.\n",
    "\n",
    "The deliverables are the following:\n",
    "telco-churn-classification-project.ipynb, README.md, predictions.csv, acquire.py, prepare.py, model.py, notebook walkthrough.\n",
    "\n",
    "### Data Dictionary:\n",
    "\n",
    "churn: 0 = Customer has not churned, 1 = Customer has churned\n",
    "\n",
    "contract_type: 0 = Month-to-Month, 2 = Yearly, 3 = Two Year\n",
    "\n",
    "depend: 0 = No dependents, 1 = Customer has dependents\n",
    "\n",
    "num_add_ons: Number of add-on services a customer has\n",
    "\n",
    "is_male: 1 if customer is male, 0 = female\n",
    "\n",
    "internet_type: 0 = No internet, 2 = DSL, 3 = Fiber Optic\n",
    "\n",
    "monthly_charges: The customer's monthly bill\n",
    "\n",
    "tenure: Tenure in months.\n",
    "\n",
    "tenure_yrs: Tenure in years\n",
    "\n",
    "### Hypothesises:\n",
    " * Churn is highest in month-to-month contracts.\n",
    " * There is a significant difference in churn between cohorts identified by tenure.\n",
    " * There is a linear relationship between monthly charges and internet service type plus phone service type."
   ]
  },
  {
   "cell_type": "markdown",
   "metadata": {},
   "source": [
    "#### Start with importing all necessary modules."
   ]
  },
  {
   "cell_type": "code",
   "execution_count": 54,
   "metadata": {},
   "outputs": [],
   "source": [
    "import numpy as np\n",
    "import pandas as pd\n",
    "import matplotlib.pyplot as plt\n",
    "import seaborn as sns\n",
    "import scipy.stats as stats\n",
    "from math import sqrt\n",
    "import statsmodels.formula.api as smf\n",
    "\n",
    "from sklearn.model_selection import train_test_split\n",
    "from sklearn.impute import SimpleImputer\n",
    "from sklearn.preprocessing import LabelEncoder, OneHotEncoder, MinMaxScaler\n",
    "from sklearn.metrics import accuracy_score, precision_score, recall_score, confusion_matrix, classification_report\n",
    "from sklearn.linear_model import LogisticRegression, LinearRegression\n",
    "from sklearn.tree import DecisionTreeClassifier\n",
    "from sklearn.metrics import recall_score\n",
    "from sklearn.metrics import f1_score\n",
    "from sklearn.metrics import precision_recall_fscore_support\n",
    "from sklearn.metrics import classification_report\n",
    "from sklearn.metrics import confusion_matrix\n",
    "\n",
    "from acquire import get_telco_data, new_telco_data\n",
    "from prepare import prep_telco, telco_split\n",
    "\n",
    "import warnings\n",
    "warnings.filterwarnings(\"ignore\")\n",
    "\n",
    "plt.rc('figure', figsize=(10, 8))\n",
    "plt.rc('font', size=14)"
   ]
  },
  {
   "cell_type": "markdown",
   "metadata": {},
   "source": [
    "# Acquire"
   ]
  },
  {
   "cell_type": "markdown",
   "metadata": {},
   "source": [
    "In Your Notebook - run acquire.py\n",
    "\n",
    " * summarize data (.info(), .describe(), .value_counts(), ...)\n",
    "\n",
    " * plot distributions of individual variables"
   ]
  },
  {
   "cell_type": "markdown",
   "metadata": {},
   "source": [
    "### Use acquire.py to get the Telco churn customer data from local CSV (if cached) or the Codeup SQL database."
   ]
  },
  {
   "cell_type": "code",
   "execution_count": 2,
   "metadata": {},
   "outputs": [
    {
     "data": {
      "text/html": [
       "<div>\n",
       "<style scoped>\n",
       "    .dataframe tbody tr th:only-of-type {\n",
       "        vertical-align: middle;\n",
       "    }\n",
       "\n",
       "    .dataframe tbody tr th {\n",
       "        vertical-align: top;\n",
       "    }\n",
       "\n",
       "    .dataframe thead th {\n",
       "        text-align: right;\n",
       "    }\n",
       "</style>\n",
       "<table border=\"1\" class=\"dataframe\">\n",
       "  <thead>\n",
       "    <tr style=\"text-align: right;\">\n",
       "      <th></th>\n",
       "      <th>customer_id</th>\n",
       "      <th>contract_type_id</th>\n",
       "      <th>phone_service</th>\n",
       "      <th>internet_service_type_id</th>\n",
       "      <th>gender</th>\n",
       "      <th>senior_citizen</th>\n",
       "      <th>partner</th>\n",
       "      <th>dependents</th>\n",
       "      <th>tenure</th>\n",
       "      <th>online_security</th>\n",
       "      <th>online_backup</th>\n",
       "      <th>device_protection</th>\n",
       "      <th>tech_support</th>\n",
       "      <th>streaming_tv</th>\n",
       "      <th>streaming_movies</th>\n",
       "      <th>monthly_charges</th>\n",
       "      <th>total_charges</th>\n",
       "      <th>churn</th>\n",
       "    </tr>\n",
       "  </thead>\n",
       "  <tbody>\n",
       "    <tr>\n",
       "      <th>0</th>\n",
       "      <td>0002-ORFBO</td>\n",
       "      <td>2</td>\n",
       "      <td>Yes</td>\n",
       "      <td>1</td>\n",
       "      <td>Female</td>\n",
       "      <td>0</td>\n",
       "      <td>Yes</td>\n",
       "      <td>Yes</td>\n",
       "      <td>9</td>\n",
       "      <td>No</td>\n",
       "      <td>Yes</td>\n",
       "      <td>No</td>\n",
       "      <td>Yes</td>\n",
       "      <td>Yes</td>\n",
       "      <td>No</td>\n",
       "      <td>65.6</td>\n",
       "      <td>593.3</td>\n",
       "      <td>No</td>\n",
       "    </tr>\n",
       "    <tr>\n",
       "      <th>1</th>\n",
       "      <td>0003-MKNFE</td>\n",
       "      <td>1</td>\n",
       "      <td>Yes</td>\n",
       "      <td>1</td>\n",
       "      <td>Male</td>\n",
       "      <td>0</td>\n",
       "      <td>No</td>\n",
       "      <td>No</td>\n",
       "      <td>9</td>\n",
       "      <td>No</td>\n",
       "      <td>No</td>\n",
       "      <td>No</td>\n",
       "      <td>No</td>\n",
       "      <td>No</td>\n",
       "      <td>Yes</td>\n",
       "      <td>59.9</td>\n",
       "      <td>542.4</td>\n",
       "      <td>No</td>\n",
       "    </tr>\n",
       "    <tr>\n",
       "      <th>2</th>\n",
       "      <td>0004-TLHLJ</td>\n",
       "      <td>1</td>\n",
       "      <td>Yes</td>\n",
       "      <td>2</td>\n",
       "      <td>Male</td>\n",
       "      <td>0</td>\n",
       "      <td>No</td>\n",
       "      <td>No</td>\n",
       "      <td>4</td>\n",
       "      <td>No</td>\n",
       "      <td>No</td>\n",
       "      <td>Yes</td>\n",
       "      <td>No</td>\n",
       "      <td>No</td>\n",
       "      <td>No</td>\n",
       "      <td>73.9</td>\n",
       "      <td>280.85</td>\n",
       "      <td>Yes</td>\n",
       "    </tr>\n",
       "  </tbody>\n",
       "</table>\n",
       "</div>"
      ],
      "text/plain": [
       "  customer_id  contract_type_id phone_service  internet_service_type_id  \\\n",
       "0  0002-ORFBO                 2           Yes                         1   \n",
       "1  0003-MKNFE                 1           Yes                         1   \n",
       "2  0004-TLHLJ                 1           Yes                         2   \n",
       "\n",
       "   gender  senior_citizen partner dependents  tenure online_security  \\\n",
       "0  Female               0     Yes        Yes       9              No   \n",
       "1    Male               0      No         No       9              No   \n",
       "2    Male               0      No         No       4              No   \n",
       "\n",
       "  online_backup device_protection tech_support streaming_tv streaming_movies  \\\n",
       "0           Yes                No          Yes          Yes               No   \n",
       "1            No                No           No           No              Yes   \n",
       "2            No               Yes           No           No               No   \n",
       "\n",
       "   monthly_charges total_charges churn  \n",
       "0             65.6         593.3    No  \n",
       "1             59.9         542.4    No  \n",
       "2             73.9        280.85   Yes  "
      ]
     },
     "execution_count": 2,
     "metadata": {},
     "output_type": "execute_result"
    }
   ],
   "source": [
    "# import acquire.py and use get_telco_data() to acquire data\n",
    "# if I want to replace my cached/local csv file with a fresh copy from SQL, I can use the function new_telco_data\n",
    "\n",
    "df = get_telco_data()\n",
    "df.head(3)"
   ]
  },
  {
   "cell_type": "markdown",
   "metadata": {},
   "source": [
    "#### These are the columns I have decided are relevant to acquire from the SQL data to use in exploration. If I don't need them all I can drop them when the time comes."
   ]
  },
  {
   "cell_type": "code",
   "execution_count": 3,
   "metadata": {},
   "outputs": [
    {
     "data": {
      "text/plain": [
       "Index(['customer_id', 'contract_type_id', 'phone_service',\n",
       "       'internet_service_type_id', 'gender', 'senior_citizen', 'partner',\n",
       "       'dependents', 'tenure', 'online_security', 'online_backup',\n",
       "       'device_protection', 'tech_support', 'streaming_tv', 'streaming_movies',\n",
       "       'monthly_charges', 'total_charges', 'churn'],\n",
       "      dtype='object')"
      ]
     },
     "execution_count": 3,
     "metadata": {},
     "output_type": "execute_result"
    }
   ],
   "source": [
    "df.columns"
   ]
  },
  {
   "cell_type": "markdown",
   "metadata": {},
   "source": [
    "# Prepare"
   ]
  },
  {
   "cell_type": "markdown",
   "metadata": {},
   "source": [
    "### Use prepare.py to clean up the data and make it easy to work with."
   ]
  },
  {
   "cell_type": "code",
   "execution_count": 4,
   "metadata": {},
   "outputs": [
    {
     "data": {
      "text/html": [
       "<div>\n",
       "<style scoped>\n",
       "    .dataframe tbody tr th:only-of-type {\n",
       "        vertical-align: middle;\n",
       "    }\n",
       "\n",
       "    .dataframe tbody tr th {\n",
       "        vertical-align: top;\n",
       "    }\n",
       "\n",
       "    .dataframe thead th {\n",
       "        text-align: right;\n",
       "    }\n",
       "</style>\n",
       "<table border=\"1\" class=\"dataframe\">\n",
       "  <thead>\n",
       "    <tr style=\"text-align: right;\">\n",
       "      <th></th>\n",
       "      <th>contract_type</th>\n",
       "      <th>phone</th>\n",
       "      <th>internet_type</th>\n",
       "      <th>senior</th>\n",
       "      <th>partner</th>\n",
       "      <th>depend</th>\n",
       "      <th>tenure</th>\n",
       "      <th>monthly_charges</th>\n",
       "      <th>total_charges</th>\n",
       "      <th>churn</th>\n",
       "      <th>num_add_ons</th>\n",
       "      <th>is_male</th>\n",
       "      <th>tenure_yrs</th>\n",
       "    </tr>\n",
       "    <tr>\n",
       "      <th>customer_id</th>\n",
       "      <th></th>\n",
       "      <th></th>\n",
       "      <th></th>\n",
       "      <th></th>\n",
       "      <th></th>\n",
       "      <th></th>\n",
       "      <th></th>\n",
       "      <th></th>\n",
       "      <th></th>\n",
       "      <th></th>\n",
       "      <th></th>\n",
       "      <th></th>\n",
       "      <th></th>\n",
       "    </tr>\n",
       "  </thead>\n",
       "  <tbody>\n",
       "    <tr>\n",
       "      <th>0002-ORFBO</th>\n",
       "      <td>1</td>\n",
       "      <td>1</td>\n",
       "      <td>0</td>\n",
       "      <td>0</td>\n",
       "      <td>1</td>\n",
       "      <td>1</td>\n",
       "      <td>9</td>\n",
       "      <td>65.6</td>\n",
       "      <td>593.3</td>\n",
       "      <td>0</td>\n",
       "      <td>3</td>\n",
       "      <td>0</td>\n",
       "      <td>0.75</td>\n",
       "    </tr>\n",
       "    <tr>\n",
       "      <th>0003-MKNFE</th>\n",
       "      <td>0</td>\n",
       "      <td>1</td>\n",
       "      <td>0</td>\n",
       "      <td>0</td>\n",
       "      <td>0</td>\n",
       "      <td>0</td>\n",
       "      <td>9</td>\n",
       "      <td>59.9</td>\n",
       "      <td>542.4</td>\n",
       "      <td>0</td>\n",
       "      <td>1</td>\n",
       "      <td>1</td>\n",
       "      <td>0.75</td>\n",
       "    </tr>\n",
       "    <tr>\n",
       "      <th>0004-TLHLJ</th>\n",
       "      <td>0</td>\n",
       "      <td>1</td>\n",
       "      <td>1</td>\n",
       "      <td>0</td>\n",
       "      <td>0</td>\n",
       "      <td>0</td>\n",
       "      <td>4</td>\n",
       "      <td>73.9</td>\n",
       "      <td>280.85</td>\n",
       "      <td>1</td>\n",
       "      <td>1</td>\n",
       "      <td>1</td>\n",
       "      <td>0.33</td>\n",
       "    </tr>\n",
       "  </tbody>\n",
       "</table>\n",
       "</div>"
      ],
      "text/plain": [
       "             contract_type  phone  internet_type  senior  partner  depend  \\\n",
       "customer_id                                                                 \n",
       "0002-ORFBO               1      1              0       0        1       1   \n",
       "0003-MKNFE               0      1              0       0        0       0   \n",
       "0004-TLHLJ               0      1              1       0        0       0   \n",
       "\n",
       "             tenure  monthly_charges total_charges  churn  num_add_ons  \\\n",
       "customer_id                                                              \n",
       "0002-ORFBO        9             65.6         593.3      0            3   \n",
       "0003-MKNFE        9             59.9         542.4      0            1   \n",
       "0004-TLHLJ        4             73.9        280.85      1            1   \n",
       "\n",
       "             is_male  tenure_yrs  \n",
       "customer_id                       \n",
       "0002-ORFBO         0        0.75  \n",
       "0003-MKNFE         1        0.75  \n",
       "0004-TLHLJ         1        0.33  "
      ]
     },
     "execution_count": 4,
     "metadata": {},
     "output_type": "execute_result"
    }
   ],
   "source": [
    "# import prepare.py and use prep_telco to prepare the data for use\n",
    "\n",
    "df = prep_telco()\n",
    "df.head(3)"
   ]
  },
  {
   "cell_type": "markdown",
   "metadata": {},
   "source": [
    "### Changes made to the data:\n",
    " * Set the index to be customer_id.\n",
    " * Encode non-numeric variables by mapping the strings into 1s and 0s.\n",
    " * Combine the variables for add-on packages into one new column, num_add_ons, that adds up the number of add-on services each customer has, and 0 if the customer has no add-ons or doesn't have internet.\n",
    " * Drop the add-on package columns we don't need anymore.\n",
    " * Encode gender, Male = 1 and Female = 0, and put in new column, is_male.\n",
    " * Drop the gender column.\n",
    " * Re-map contract_type_id and internet_service_type_id from values 1 to 3 into values 0 to 2:\n",
    "  * Monthly = 0, Yearly = 1, Two Year = 2\n",
    "  * 0 = No Internet Service, 1 = DSL, 2 = Fiber Optic\n",
    " * Add a column called tenure_yrs that represents tenure in years.\n",
    " * Rename columns to shorter names for readability and ease of use:\n",
    "  * contract_type_id --> contract_type\n",
    "  * phone_service --> phone\n",
    "  * internet_service_type_id --> internet_type\n",
    "  * senior_citizen --> senior\n",
    "  * dependents --> depend"
   ]
  },
  {
   "cell_type": "markdown",
   "metadata": {},
   "source": [
    "### Now I'll just make sure there are no missing values."
   ]
  },
  {
   "cell_type": "code",
   "execution_count": 5,
   "metadata": {},
   "outputs": [
    {
     "data": {
      "text/plain": [
       "contract_type      0\n",
       "phone              0\n",
       "internet_type      0\n",
       "senior             0\n",
       "partner            0\n",
       "depend             0\n",
       "tenure             0\n",
       "monthly_charges    0\n",
       "total_charges      0\n",
       "churn              0\n",
       "num_add_ons        0\n",
       "is_male            0\n",
       "tenure_yrs         0\n",
       "dtype: int64"
      ]
     },
     "execution_count": 5,
     "metadata": {},
     "output_type": "execute_result"
    }
   ],
   "source": [
    "df.isna().sum()"
   ]
  },
  {
   "cell_type": "markdown",
   "metadata": {},
   "source": [
    "### No missing values. The data is tidy and ready to split into train, validate, and test."
   ]
  },
  {
   "cell_type": "code",
   "execution_count": 6,
   "metadata": {},
   "outputs": [
    {
     "name": "stdout",
     "output_type": "stream",
     "text": [
      "overall shape (7043, 13)\n",
      "train (3943, 13)\n",
      "validate (1691, 13)\n",
      "test (1409, 13)\n"
     ]
    }
   ],
   "source": [
    "# split the data using telco_split from my prepare.py\n",
    "\n",
    "train, validate, test = telco_split(df)\n",
    "\n",
    "print('overall shape', df.shape)\n",
    "print('train', train.shape)\n",
    "print('validate', validate.shape)\n",
    "print('test', test.shape)"
   ]
  },
  {
   "cell_type": "markdown",
   "metadata": {},
   "source": [
    "### Now the data is ready for exploration. We will work only within the train dataset in the next step."
   ]
  },
  {
   "cell_type": "markdown",
   "metadata": {},
   "source": [
    "# Explore"
   ]
  },
  {
   "cell_type": "markdown",
   "metadata": {},
   "source": [
    "## If a group is identified by tenure, is there a cohort or cohorts who have a higher rate of churn than other cohorts?"
   ]
  },
  {
   "cell_type": "markdown",
   "metadata": {},
   "source": [
    "$\n",
    "\\begin{align*}\n",
    "   H_0 & : \\text{There is no difference in churn between cohorts identified by tenure.}\n",
    "   \\\\\n",
    "   H_a & : \\text{There is a significant difference in churn between cohorts identified by tenure.}\n",
    "   \\\\\n",
    "    \\alpha & : \\text{0.05}\n",
    "\\end{align*}\n",
    "$"
   ]
  },
  {
   "cell_type": "code",
   "execution_count": 7,
   "metadata": {},
   "outputs": [
    {
     "data": {
      "text/plain": [
       "<matplotlib.axes._subplots.AxesSubplot at 0x121bc0b80>"
      ]
     },
     "execution_count": 7,
     "metadata": {},
     "output_type": "execute_result"
    },
    {
     "data": {
      "image/png": "[encoded data removed]",
      "text/plain": [
       "<Figure size 720x576 with 1 Axes>"
      ]
     },
     "metadata": {
      "needs_background": "light"
     },
     "output_type": "display_data"
    }
   ],
   "source": [
    "# Take a look at the spread of the tenure so I can determine how I want to split the cohorts.\n",
    "train.tenure_yrs.describe()\n",
    "\n",
    "# Distribution of Tenure (in years) amongst all customers\n",
    "sns.distplot(train.tenure_yrs)"
   ]
  },
  {
   "cell_type": "code",
   "execution_count": 8,
   "metadata": {},
   "outputs": [],
   "source": [
    "# I will use pd.cut to create bins for me. Looking at my visualization, I think 5 groups would be most useful to explore.\n",
    "# I can choose to drop this from my train set at the end of exploration.\n",
    "\n",
    "train['tenure_cohorts'] = pd.cut(train.tenure_yrs, 5, labels=['0 to 1.2 Years', '1.2 to 2.4 Years', '2.4 to 3.6 Years', '3.6 to 4.8 Years', '4.8 to 6.0 Years'])"
   ]
  },
  {
   "cell_type": "code",
   "execution_count": 9,
   "metadata": {},
   "outputs": [
    {
     "data": {
      "text/plain": [
       "[Text(0, 0.5, 'Churn Rate'),\n",
       " Text(0.5, 0, 'Tenure Cohorts'),\n",
       " Text(0.5, 1.0, 'Churn Rates Grouped by Tenure Cohort')]"
      ]
     },
     "execution_count": 9,
     "metadata": {},
     "output_type": "execute_result"
    },
    {
     "data": {
      "image/png": "[encoded data removed]",
      "text/plain": [
       "<Figure size 720x576 with 1 Axes>"
      ]
     },
     "metadata": {
      "needs_background": "light"
     },
     "output_type": "display_data"
    }
   ],
   "source": [
    "# Plot the rate of churn on a line chart\n",
    "# where x is the tenure and y is the rate of churn (customers churned/total customers)\n",
    "\n",
    "cohort_viz1 = sns.lineplot(data=train, x=train.tenure_cohorts, y=train.churn)\n",
    "cohort_viz1.set(xlabel=\"Tenure Cohorts\", ylabel = \"Churn Rate\", title = \"Churn Rates Grouped by Tenure Cohort\")"
   ]
  },
  {
   "cell_type": "markdown",
   "metadata": {},
   "source": [
    "### Now I'll run Chi-Square test on the hypothesis:"
   ]
  },
  {
   "cell_type": "code",
   "execution_count": 10,
   "metadata": {},
   "outputs": [
    {
     "data": {
      "text/html": [
       "<div>\n",
       "<style scoped>\n",
       "    .dataframe tbody tr th:only-of-type {\n",
       "        vertical-align: middle;\n",
       "    }\n",
       "\n",
       "    .dataframe tbody tr th {\n",
       "        vertical-align: top;\n",
       "    }\n",
       "\n",
       "    .dataframe thead th {\n",
       "        text-align: right;\n",
       "    }\n",
       "</style>\n",
       "<table border=\"1\" class=\"dataframe\">\n",
       "  <thead>\n",
       "    <tr style=\"text-align: right;\">\n",
       "      <th>tenure_cohorts</th>\n",
       "      <th>0 to 1.2 Years</th>\n",
       "      <th>1.2 to 2.4 Years</th>\n",
       "      <th>2.4 to 3.6 Years</th>\n",
       "      <th>3.6 to 4.8 Years</th>\n",
       "      <th>4.8 to 6.0 Years</th>\n",
       "    </tr>\n",
       "    <tr>\n",
       "      <th>churn</th>\n",
       "      <th></th>\n",
       "      <th></th>\n",
       "      <th></th>\n",
       "      <th></th>\n",
       "      <th></th>\n",
       "    </tr>\n",
       "  </thead>\n",
       "  <tbody>\n",
       "    <tr>\n",
       "      <th>0</th>\n",
       "      <td>715</td>\n",
       "      <td>465</td>\n",
       "      <td>453</td>\n",
       "      <td>452</td>\n",
       "      <td>812</td>\n",
       "    </tr>\n",
       "    <tr>\n",
       "      <th>1</th>\n",
       "      <td>639</td>\n",
       "      <td>156</td>\n",
       "      <td>110</td>\n",
       "      <td>80</td>\n",
       "      <td>61</td>\n",
       "    </tr>\n",
       "  </tbody>\n",
       "</table>\n",
       "</div>"
      ],
      "text/plain": [
       "tenure_cohorts  0 to 1.2 Years  1.2 to 2.4 Years  2.4 to 3.6 Years  \\\n",
       "churn                                                                \n",
       "0                          715               465               453   \n",
       "1                          639               156               110   \n",
       "\n",
       "tenure_cohorts  3.6 to 4.8 Years  4.8 to 6.0 Years  \n",
       "churn                                               \n",
       "0                            452               812  \n",
       "1                             80                61  "
      ]
     },
     "execution_count": 10,
     "metadata": {},
     "output_type": "execute_result"
    }
   ],
   "source": [
    "# contingency table\n",
    "observed = pd.crosstab(train.churn, train.tenure_cohorts)\n",
    "observed"
   ]
  },
  {
   "cell_type": "markdown",
   "metadata": {},
   "source": [
    "$\n",
    "\\begin{align*}\n",
    "   H_0 & : \\text{There is no difference in churn between cohorts identified by tenure.}\n",
    "   \\\\\n",
    "   H_a & : \\text{There is a significant difference in churn between cohorts identified by tenure.}\n",
    "   \\\\\n",
    "    \\alpha & : \\text{0.05}\n",
    "\\end{align*}\n",
    "$"
   ]
  },
  {
   "cell_type": "code",
   "execution_count": 11,
   "metadata": {},
   "outputs": [],
   "source": [
    "alpha = 0.05"
   ]
  },
  {
   "cell_type": "code",
   "execution_count": 12,
   "metadata": {},
   "outputs": [
    {
     "name": "stdout",
     "output_type": "stream",
     "text": [
      "We reject the hypothesis that there is no difference in churn between cohorts identified by tenure.\n",
      "6.72704628371419e-111\n"
     ]
    }
   ],
   "source": [
    "chi2, p, degf, expected = stats.chi2_contingency(observed)\n",
    "\n",
    "null_hypothesis = \"there is no difference in churn between cohorts identified by tenure.\"\n",
    "\n",
    "if p < alpha:\n",
    "    print(\"We reject the hypothesis that\", null_hypothesis)\n",
    "else:\n",
    "    print(\"We fail to reject the null hypothesis.\")\n",
    "\n",
    "print(p)"
   ]
  },
  {
   "cell_type": "markdown",
   "metadata": {},
   "source": [
    "### We reject the null hypothesis, meaning that we can work off the assumption of a relationship between cohorts as split by tenure and their churn rates."
   ]
  },
  {
   "cell_type": "code",
   "execution_count": 13,
   "metadata": {},
   "outputs": [
    {
     "data": {
      "text/plain": [
       "<matplotlib.axes._subplots.AxesSubplot at 0x121455b50>"
      ]
     },
     "execution_count": 13,
     "metadata": {},
     "output_type": "execute_result"
    },
    {
     "data": {
      "image/png": "[encoded data removed]",
      "text/plain": [
       "<Figure size 720x576 with 2 Axes>"
      ]
     },
     "metadata": {
      "needs_background": "light"
     },
     "output_type": "display_data"
    }
   ],
   "source": [
    "observed = pd.crosstab(train.churn, train.tenure_cohorts, normalize=True)\n",
    "sns.heatmap(observed, annot=True)"
   ]
  },
  {
   "cell_type": "markdown",
   "metadata": {},
   "source": [
    "### Generally, people who stay with the company longer have lower churn rates, and vice versa."
   ]
  },
  {
   "cell_type": "markdown",
   "metadata": {},
   "source": [
    "## Are there features that indicate a higher propensity to churn?"
   ]
  },
  {
   "cell_type": "code",
   "execution_count": 14,
   "metadata": {},
   "outputs": [
    {
     "data": {
      "image/png": "[encoded data removed]",
      "text/plain": [
       "<Figure size 720x576 with 1 Axes>"
      ]
     },
     "metadata": {
      "needs_background": "light"
     },
     "output_type": "display_data"
    }
   ],
   "source": [
    "sns.boxplot(x='senior', y='tenure_yrs', data=train, hue='churn', palette='Purples', linewidth=2)\n",
    "\n",
    "plt.title('How Does Senior Status and Tenure Relate to Churn?')\n",
    "plt.xlabel('Senior?')\n",
    "plt.ylabel('Tenure in years')\n",
    "plt.show()"
   ]
  },
  {
   "cell_type": "markdown",
   "metadata": {},
   "source": [
    "### I was expecting a bigger difference in churn between the senior/not senior groups, so I will move my focus to exploring other features."
   ]
  },
  {
   "cell_type": "code",
   "execution_count": 15,
   "metadata": {},
   "outputs": [
    {
     "data": {
      "image/png": "[encoded data removed]",
      "text/plain": [
       "<Figure size 720x576 with 2 Axes>"
      ]
     },
     "metadata": {
      "needs_background": "light"
     },
     "output_type": "display_data"
    }
   ],
   "source": [
    "# Visualize the churn rates of customers by number of add-on services they have/had.\n",
    "ctab = pd.crosstab(train.churn, train.num_add_ons, normalize=True)\n",
    "sns.heatmap(ctab, annot=True, cmap='Greens', fmt='.2%')\n",
    "plt.title('X Number of Add-ons, Churned %')\n",
    "plt.xlabel('# of Service Add-ons')\n",
    "plt.ylabel('')\n",
    "locs, labels = plt.yticks()\n",
    "plt.yticks(locs, ('Not Churned', 'Churned'))\n",
    "plt.show()"
   ]
  },
  {
   "cell_type": "markdown",
   "metadata": {},
   "source": [
    "### This heatmap tells me that many customers stay with Telco despite having no add-ons (or no internet). That said, the highest churn rate belongs to customers who do not have add-ons or do not have internet. The heatmap also visualizes (as you can see by the range of the gradients from left to right) that churn goes continually down with more add-ons."
   ]
  },
  {
   "cell_type": "code",
   "execution_count": 16,
   "metadata": {},
   "outputs": [
    {
     "data": {
      "image/png": "[encoded data removed]",
      "text/plain": [
       "<Figure size 720x576 with 1 Axes>"
      ]
     },
     "metadata": {
      "needs_background": "light"
     },
     "output_type": "display_data"
    }
   ],
   "source": [
    "sns.violinplot(x='churn', y='monthly_charges', data=train, hue='partner')\n",
    "\n",
    "plt.title('How Does Having a Partner and Monthly Charges relate to Churn Rates?')\n",
    "plt.xlabel('Churned?')\n",
    "plt.ylabel('Monthly Charge')\n",
    "\n",
    "plt.show()"
   ]
  },
  {
   "cell_type": "markdown",
   "metadata": {},
   "source": [
    "### Having a partner doesn't seem to have a huge affect on churn rate, although it does tend to make a customer spend more."
   ]
  },
  {
   "cell_type": "markdown",
   "metadata": {},
   "source": [
    "### Monthly charges look like the biggest driver of churn so far."
   ]
  },
  {
   "cell_type": "markdown",
   "metadata": {},
   "source": [
    "## If we looked at churn rate for month-to-month customers after the 12th month and that of 1-year contract customers after the 12th month, are those rates comparable?"
   ]
  },
  {
   "cell_type": "code",
   "execution_count": 17,
   "metadata": {},
   "outputs": [
    {
     "name": "stdout",
     "output_type": "stream",
     "text": [
      "The average rate of churn amongst month-to-month customers after the 12th month is 0.42\n",
      "\n",
      "The average rate of churn amongst yearly customers after the 12th month is 0.29\n"
     ]
    }
   ],
   "source": [
    "m2m = train[train['contract_type'] == 0]\n",
    "m2m_12month = m2m[m2m['tenure'] == 12]\n",
    "\n",
    "one_yr = train[train['contract_type'] == 1]\n",
    "one_yr_12month = one_yr[one_yr['tenure'] == 12]\n",
    "\n",
    "print('The average rate of churn amongst month-to-month customers after the 12th month is', m2m_12month.churn.mean())\n",
    "print('\\nThe average rate of churn amongst yearly customers after the 12th month is', round(one_yr_12month.churn.mean(), 2))"
   ]
  },
  {
   "cell_type": "markdown",
   "metadata": {},
   "source": [
    "### The churn rates of month-to-month customers after the 12th month and yearly customers after the 12th month are not comparable."
   ]
  },
  {
   "cell_type": "markdown",
   "metadata": {},
   "source": [
    "## How much of monthly_charges can be explained by internet_service_type?"
   ]
  },
  {
   "cell_type": "code",
   "execution_count": 18,
   "metadata": {},
   "outputs": [
    {
     "data": {
      "image/png": "[encoded data removed]",
      "text/plain": [
       "<Figure size 720x576 with 1 Axes>"
      ]
     },
     "metadata": {
      "needs_background": "light"
     },
     "output_type": "display_data"
    }
   ],
   "source": [
    "sns.boxplot(x='internet_type', y='monthly_charges', data=train, hue='churn', palette='Blues', linewidth=2)\n",
    "\n",
    "plt.title('How Do Internet Type and Monthly Charges Relate to Churn?')\n",
    "plt.xlabel('')\n",
    "plt.ylabel('Monthly Charges')\n",
    "locs, labels = plt.xticks()\n",
    "plt.xticks(locs, ('No Internet', 'DSL', 'Fiber Optic'))\n",
    "plt.show()"
   ]
  },
  {
   "cell_type": "markdown",
   "metadata": {},
   "source": [
    "### Monthly charges of customers with no internet have similar ranges, but customers with no internet who churned had lower median monthly charges.\n",
    "\n",
    "### This tells me that those people could have left the company for reasons other than monthly charge, like maybe choosing to get their internet service elsewhere and ending up switching their phone lines to that company as well."
   ]
  },
  {
   "cell_type": "markdown",
   "metadata": {},
   "source": [
    "## How much of monthly_charges can be explained by internet_service_type + phone_service_type (0, 1, or multiple lines)."
   ]
  },
  {
   "cell_type": "markdown",
   "metadata": {},
   "source": [
    "$\n",
    "\\begin{align*}\n",
    "   H_0 & : \\text{There is no linear relationship between monthly charges and internet service type plus phone service type.}\n",
    "   \\\\\n",
    "   H_a & : \\text{There is a linear relationship between monthly charges and internet service type plus phone service type.}\n",
    "   \\\\\n",
    "    \\alpha & : \\text{0.05}\n",
    "\\end{align*}\n",
    "$"
   ]
  },
  {
   "cell_type": "markdown",
   "metadata": {},
   "source": [
    "### In data prep I chose to change the phone_service_type to just phone because there were very few customers with multiple lines. I used my judgement to call that statistically irrelevant to the scope and goals of my project."
   ]
  },
  {
   "cell_type": "code",
   "execution_count": 19,
   "metadata": {},
   "outputs": [],
   "source": [
    "n = train.shape[0]\n",
    "degf = n - 2\n",
    "conf_interval = .95\n",
    "alpha = .05"
   ]
  },
  {
   "cell_type": "code",
   "execution_count": 20,
   "metadata": {},
   "outputs": [],
   "source": [
    "train['num_services'] = (train.internet_type + train.phone)"
   ]
  },
  {
   "cell_type": "code",
   "execution_count": 21,
   "metadata": {},
   "outputs": [
    {
     "name": "stdout",
     "output_type": "stream",
     "text": [
      "Pearson's correlation coefficient: -0.18243283931420629\n"
     ]
    }
   ],
   "source": [
    "x = train.num_services\n",
    "y = train.monthly_charges\n",
    "\n",
    "def stdev(x):\n",
    "    variance = ((x - x.mean()) ** 2).sum() / n\n",
    "    return sqrt(variance)\n",
    "\n",
    "# 1 = perfect correlation and -1 = perfect negative correlation.\n",
    "\n",
    "r_xy = (((x - x.mean()) * (y - y.mean())).sum() / n) / (stdev(x) * stdev(y))\n",
    "print(\"Pearson's correlation coefficient:\", r_xy)"
   ]
  },
  {
   "cell_type": "code",
   "execution_count": 22,
   "metadata": {},
   "outputs": [
    {
     "name": "stdout",
     "output_type": "stream",
     "text": [
      "Test statistic: -11.648131745260457\n"
     ]
    }
   ],
   "source": [
    "t = (r_xy * sqrt(n - 2)) / sqrt(1 - r_xy**2)\n",
    "print(\"Test statistic:\", t)"
   ]
  },
  {
   "cell_type": "code",
   "execution_count": 23,
   "metadata": {},
   "outputs": [
    {
     "name": "stdout",
     "output_type": "stream",
     "text": [
      "p-value: 2.0\n"
     ]
    }
   ],
   "source": [
    "p = stats.t.sf(t, df=degf) * 2 # *2 for a two-tailed test\n",
    "print(\"p-value:\", p)"
   ]
  },
  {
   "cell_type": "code",
   "execution_count": 24,
   "metadata": {},
   "outputs": [
    {
     "name": "stdout",
     "output_type": "stream",
     "text": [
      "We fail to reject the null hypothesis.\n"
     ]
    }
   ],
   "source": [
    "null_hypothesis = \"there is no linear relationship between monthly charges and internet service type plus phone service type.\"\n",
    "\n",
    "if p < alpha:\n",
    "    print(\"We reject the hypothesis that\", null_hypothesis)\n",
    "else:\n",
    "    print(\"We fail to reject the null hypothesis.\")"
   ]
  },
  {
   "cell_type": "markdown",
   "metadata": {},
   "source": [
    "### We fail to reject the null hypothesis, showing that there is no linear relationship between amount of phone and internet services and monthly charges.\n",
    "### This is probably a big source of discontentment amongst customers, because they should be getting their money's worth."
   ]
  },
  {
   "cell_type": "markdown",
   "metadata": {},
   "source": [
    "## Data Exploration Summary:\n",
    " * #### There is significant difference in churn between cohorts identified by tenure.\n",
    " * #### Customers who stay with the company longer have lower churn rates, and vice versa.\n",
    " * #### A customer being a senior or having a partner is relatively irrelevant to whether or not they churn.\n",
    " * #### People with more service package add-ons churn less.\n",
    " * #### Customers with partners spend a little more monthly.\n",
    " * #### The churn rates of month-to-month customers after the 12th month and yearly customers after the 12th month are not comparable.\n",
    " * #### Monthly charges of customers with no internet have similar ranges, but customers with no internet who churned had lower median monthly charges.\n",
    " * #### There is no linear relationship between amount of phone and internet services and monthly charges.\n",
    " * #### High monthly charges are a primary driver of churn.\n",
    " \n",
    "### Focus points moving forward will be the features monthly_charges and num_add_ons."
   ]
  },
  {
   "cell_type": "markdown",
   "metadata": {},
   "source": [
    "# Modeling and Evaluation"
   ]
  },
  {
   "cell_type": "code",
   "execution_count": 25,
   "metadata": {},
   "outputs": [],
   "source": [
    "# You are required to establish a baseline accuracy to determine if having a model is better than no model\n",
    "# and train and compare at least 3 different models. Document these steps well."
   ]
  },
  {
   "cell_type": "markdown",
   "metadata": {},
   "source": [
    "In Your Notebook:\n",
    "\n",
    " * Feature Selection: Are there any variables that seem to provide limited to no additional information? If so, remove them.\n",
    "\n",
    " * Train (fit, transform, evaluate) multiple different models, varying the model type and hyperparameters.\n",
    "\n",
    " * Compare evaluation metrics across all the models, and select the ones you want to test using your validate dataframe.\n",
    "\n",
    " * Based on how your evaluation of your models using the train and validate datasets, choose your best model that you will try with your test data.\n",
    "\n",
    " * Test the final model (transform, evaluate) on your out-of-sample data (the testing data set). Summarize the performance. Interpret your results."
   ]
  },
  {
   "cell_type": "markdown",
   "metadata": {},
   "source": [
    "### Feature selection"
   ]
  },
  {
   "cell_type": "code",
   "execution_count": 26,
   "metadata": {},
   "outputs": [
    {
     "data": {
      "text/html": [
       "<div>\n",
       "<style scoped>\n",
       "    .dataframe tbody tr th:only-of-type {\n",
       "        vertical-align: middle;\n",
       "    }\n",
       "\n",
       "    .dataframe tbody tr th {\n",
       "        vertical-align: top;\n",
       "    }\n",
       "\n",
       "    .dataframe thead th {\n",
       "        text-align: right;\n",
       "    }\n",
       "</style>\n",
       "<table border=\"1\" class=\"dataframe\">\n",
       "  <thead>\n",
       "    <tr style=\"text-align: right;\">\n",
       "      <th></th>\n",
       "      <th>contract_type</th>\n",
       "      <th>phone</th>\n",
       "      <th>internet_type</th>\n",
       "      <th>partner</th>\n",
       "      <th>depend</th>\n",
       "      <th>tenure</th>\n",
       "      <th>monthly_charges</th>\n",
       "      <th>total_charges</th>\n",
       "      <th>churn</th>\n",
       "      <th>num_add_ons</th>\n",
       "      <th>is_male</th>\n",
       "      <th>tenure_yrs</th>\n",
       "    </tr>\n",
       "    <tr>\n",
       "      <th>customer_id</th>\n",
       "      <th></th>\n",
       "      <th></th>\n",
       "      <th></th>\n",
       "      <th></th>\n",
       "      <th></th>\n",
       "      <th></th>\n",
       "      <th></th>\n",
       "      <th></th>\n",
       "      <th></th>\n",
       "      <th></th>\n",
       "      <th></th>\n",
       "      <th></th>\n",
       "    </tr>\n",
       "  </thead>\n",
       "  <tbody>\n",
       "    <tr>\n",
       "      <th>2821-WARNZ</th>\n",
       "      <td>1</td>\n",
       "      <td>1</td>\n",
       "      <td>2</td>\n",
       "      <td>0</td>\n",
       "      <td>1</td>\n",
       "      <td>49</td>\n",
       "      <td>19.45</td>\n",
       "      <td>921.3</td>\n",
       "      <td>0</td>\n",
       "      <td>0</td>\n",
       "      <td>0</td>\n",
       "      <td>4.08</td>\n",
       "    </tr>\n",
       "    <tr>\n",
       "      <th>2720-WGKHP</th>\n",
       "      <td>0</td>\n",
       "      <td>1</td>\n",
       "      <td>1</td>\n",
       "      <td>0</td>\n",
       "      <td>0</td>\n",
       "      <td>2</td>\n",
       "      <td>94.00</td>\n",
       "      <td>181.7</td>\n",
       "      <td>1</td>\n",
       "      <td>2</td>\n",
       "      <td>1</td>\n",
       "      <td>0.17</td>\n",
       "    </tr>\n",
       "    <tr>\n",
       "      <th>2197-OMWGI</th>\n",
       "      <td>2</td>\n",
       "      <td>0</td>\n",
       "      <td>0</td>\n",
       "      <td>1</td>\n",
       "      <td>1</td>\n",
       "      <td>68</td>\n",
       "      <td>53.00</td>\n",
       "      <td>3656.25</td>\n",
       "      <td>0</td>\n",
       "      <td>4</td>\n",
       "      <td>0</td>\n",
       "      <td>5.67</td>\n",
       "    </tr>\n",
       "  </tbody>\n",
       "</table>\n",
       "</div>"
      ],
      "text/plain": [
       "             contract_type  phone  internet_type  partner  depend  tenure  \\\n",
       "customer_id                                                                 \n",
       "2821-WARNZ               1      1              2        0       1      49   \n",
       "2720-WGKHP               0      1              1        0       0       2   \n",
       "2197-OMWGI               2      0              0        1       1      68   \n",
       "\n",
       "             monthly_charges total_charges  churn  num_add_ons  is_male  \\\n",
       "customer_id                                                               \n",
       "2821-WARNZ             19.45         921.3      0            0        0   \n",
       "2720-WGKHP             94.00         181.7      1            2        1   \n",
       "2197-OMWGI             53.00       3656.25      0            4        0   \n",
       "\n",
       "             tenure_yrs  \n",
       "customer_id              \n",
       "2821-WARNZ         4.08  \n",
       "2720-WGKHP         0.17  \n",
       "2197-OMWGI         5.67  "
      ]
     },
     "execution_count": 26,
     "metadata": {},
     "output_type": "execute_result"
    }
   ],
   "source": [
    "# Drop variables we don't need\n",
    "train = train.drop(columns=['tenure_cohorts', 'num_services', 'senior'])\n",
    "train.head(3)"
   ]
  },
  {
   "cell_type": "markdown",
   "metadata": {},
   "source": [
    "### Train (fit, transform, evaluate) Models"
   ]
  },
  {
   "cell_type": "markdown",
   "metadata": {},
   "source": [
    "Start by defining the baseline model."
   ]
  },
  {
   "cell_type": "markdown",
   "metadata": {},
   "source": [
    "### Baseline Model"
   ]
  },
  {
   "cell_type": "code",
   "execution_count": 27,
   "metadata": {},
   "outputs": [
    {
     "data": {
      "text/plain": [
       "0    2897\n",
       "1    1046\n",
       "Name: churn, dtype: int64"
      ]
     },
     "execution_count": 27,
     "metadata": {},
     "output_type": "execute_result"
    }
   ],
   "source": [
    "# Find the baseline and it's accuracy\n",
    "\n",
    "train.churn.value_counts()"
   ]
  },
  {
   "cell_type": "code",
   "execution_count": 29,
   "metadata": {},
   "outputs": [
    {
     "data": {
      "text/html": [
       "<div>\n",
       "<style scoped>\n",
       "    .dataframe tbody tr th:only-of-type {\n",
       "        vertical-align: middle;\n",
       "    }\n",
       "\n",
       "    .dataframe tbody tr th {\n",
       "        vertical-align: top;\n",
       "    }\n",
       "\n",
       "    .dataframe thead th {\n",
       "        text-align: right;\n",
       "    }\n",
       "</style>\n",
       "<table border=\"1\" class=\"dataframe\">\n",
       "  <thead>\n",
       "    <tr style=\"text-align: right;\">\n",
       "      <th></th>\n",
       "      <th>churn</th>\n",
       "      <th>baseline</th>\n",
       "    </tr>\n",
       "    <tr>\n",
       "      <th>customer_id</th>\n",
       "      <th></th>\n",
       "      <th></th>\n",
       "    </tr>\n",
       "  </thead>\n",
       "  <tbody>\n",
       "    <tr>\n",
       "      <th>2821-WARNZ</th>\n",
       "      <td>0</td>\n",
       "      <td>0</td>\n",
       "    </tr>\n",
       "    <tr>\n",
       "      <th>2720-WGKHP</th>\n",
       "      <td>1</td>\n",
       "      <td>0</td>\n",
       "    </tr>\n",
       "    <tr>\n",
       "      <th>2197-OMWGI</th>\n",
       "      <td>0</td>\n",
       "      <td>0</td>\n",
       "    </tr>\n",
       "  </tbody>\n",
       "</table>\n",
       "</div>"
      ],
      "text/plain": [
       "             churn  baseline\n",
       "customer_id                 \n",
       "2821-WARNZ       0         0\n",
       "2720-WGKHP       1         0\n",
       "2197-OMWGI       0         0"
      ]
     },
     "execution_count": 29,
     "metadata": {},
     "output_type": "execute_result"
    }
   ],
   "source": [
    "# Our positive case will be that a customer has Churned (1)\n",
    "# Baseline model will predict (0) that a customer has not churned\n",
    "\n",
    "baseline_model = pd.DataFrame(train)\n",
    "baseline_model[\"baseline\"] = baseline_model.churn.value_counts().index[0]\n",
    "baseline_model = baseline_model.drop(columns=['contract_type', 'phone', 'internet_type', 'partner', 'depend',\n",
    "       'tenure', 'monthly_charges', 'total_charges', 'num_add_ons',\n",
    "       'is_male', 'tenure_yrs'])\n",
    "baseline_model.head(3)"
   ]
  },
  {
   "cell_type": "code",
   "execution_count": 31,
   "metadata": {},
   "outputs": [
    {
     "data": {
      "text/html": [
       "<div>\n",
       "<style scoped>\n",
       "    .dataframe tbody tr th:only-of-type {\n",
       "        vertical-align: middle;\n",
       "    }\n",
       "\n",
       "    .dataframe tbody tr th {\n",
       "        vertical-align: top;\n",
       "    }\n",
       "\n",
       "    .dataframe thead th {\n",
       "        text-align: right;\n",
       "    }\n",
       "</style>\n",
       "<table border=\"1\" class=\"dataframe\">\n",
       "  <thead>\n",
       "    <tr style=\"text-align: right;\">\n",
       "      <th>baseline</th>\n",
       "      <th>0</th>\n",
       "    </tr>\n",
       "    <tr>\n",
       "      <th>churn</th>\n",
       "      <th></th>\n",
       "    </tr>\n",
       "  </thead>\n",
       "  <tbody>\n",
       "    <tr>\n",
       "      <th>0</th>\n",
       "      <td>2897</td>\n",
       "    </tr>\n",
       "    <tr>\n",
       "      <th>1</th>\n",
       "      <td>1046</td>\n",
       "    </tr>\n",
       "  </tbody>\n",
       "</table>\n",
       "</div>"
      ],
      "text/plain": [
       "baseline     0\n",
       "churn         \n",
       "0         2897\n",
       "1         1046"
      ]
     },
     "execution_count": 31,
     "metadata": {},
     "output_type": "execute_result"
    }
   ],
   "source": [
    "pd.crosstab(baseline_model.churn, baseline_model.baseline)"
   ]
  },
  {
   "cell_type": "code",
   "execution_count": 32,
   "metadata": {},
   "outputs": [
    {
     "name": "stdout",
     "output_type": "stream",
     "text": [
      "True Positives: 2897\n",
      "False Positives: 1046\n",
      "False Negatives: 0\n",
      "True Negatives: 0\n",
      "-------------\n",
      "Accuracy of baseline model is 0.735\n",
      "Recall is 1.0\n",
      "Precision is 0.735\n"
     ]
    }
   ],
   "source": [
    "# tp is where we predict no churn and they do not churn\n",
    "tp = 2897\n",
    "tn = 0\n",
    "fp = 1046\n",
    "fn = 0\n",
    "\n",
    "print(\"True Positives:\", tp)\n",
    "print(\"False Positives:\", fp)\n",
    "print(\"False Negatives:\", fn)\n",
    "print(\"True Negatives:\", tn)\n",
    "print(\"-------------\")\n",
    "\n",
    "accuracy = (tp + tn) / (tp + tn + fp + fn)\n",
    "recall = tp / (tp + fn)\n",
    "precision = tp / (tp + fp)\n",
    "\n",
    "print(\"Accuracy of baseline model is\", round(accuracy, 3))\n",
    "print(\"Recall is\", round(recall, 3))\n",
    "print(\"Precision is\", round(precision, 3))"
   ]
  },
  {
   "cell_type": "markdown",
   "metadata": {},
   "source": [
    "Baseline accuracy to beat is 73.5% accuracy."
   ]
  },
  {
   "cell_type": "code",
   "execution_count": 34,
   "metadata": {},
   "outputs": [
    {
     "data": {
      "text/html": [
       "<div>\n",
       "<style scoped>\n",
       "    .dataframe tbody tr th:only-of-type {\n",
       "        vertical-align: middle;\n",
       "    }\n",
       "\n",
       "    .dataframe tbody tr th {\n",
       "        vertical-align: top;\n",
       "    }\n",
       "\n",
       "    .dataframe thead th {\n",
       "        text-align: right;\n",
       "    }\n",
       "</style>\n",
       "<table border=\"1\" class=\"dataframe\">\n",
       "  <thead>\n",
       "    <tr style=\"text-align: right;\">\n",
       "      <th></th>\n",
       "      <th>contract_type</th>\n",
       "      <th>phone</th>\n",
       "      <th>internet_type</th>\n",
       "      <th>partner</th>\n",
       "      <th>depend</th>\n",
       "      <th>tenure</th>\n",
       "      <th>monthly_charges</th>\n",
       "      <th>total_charges</th>\n",
       "      <th>churn</th>\n",
       "      <th>num_add_ons</th>\n",
       "      <th>is_male</th>\n",
       "      <th>tenure_yrs</th>\n",
       "      <th>baseline</th>\n",
       "    </tr>\n",
       "    <tr>\n",
       "      <th>customer_id</th>\n",
       "      <th></th>\n",
       "      <th></th>\n",
       "      <th></th>\n",
       "      <th></th>\n",
       "      <th></th>\n",
       "      <th></th>\n",
       "      <th></th>\n",
       "      <th></th>\n",
       "      <th></th>\n",
       "      <th></th>\n",
       "      <th></th>\n",
       "      <th></th>\n",
       "      <th></th>\n",
       "    </tr>\n",
       "  </thead>\n",
       "  <tbody>\n",
       "    <tr>\n",
       "      <th>2821-WARNZ</th>\n",
       "      <td>1</td>\n",
       "      <td>1</td>\n",
       "      <td>2</td>\n",
       "      <td>0</td>\n",
       "      <td>1</td>\n",
       "      <td>49</td>\n",
       "      <td>19.45</td>\n",
       "      <td>921.3</td>\n",
       "      <td>0</td>\n",
       "      <td>0</td>\n",
       "      <td>0</td>\n",
       "      <td>4.08</td>\n",
       "      <td>0</td>\n",
       "    </tr>\n",
       "    <tr>\n",
       "      <th>2720-WGKHP</th>\n",
       "      <td>0</td>\n",
       "      <td>1</td>\n",
       "      <td>1</td>\n",
       "      <td>0</td>\n",
       "      <td>0</td>\n",
       "      <td>2</td>\n",
       "      <td>94.00</td>\n",
       "      <td>181.7</td>\n",
       "      <td>1</td>\n",
       "      <td>2</td>\n",
       "      <td>1</td>\n",
       "      <td>0.17</td>\n",
       "      <td>0</td>\n",
       "    </tr>\n",
       "    <tr>\n",
       "      <th>2197-OMWGI</th>\n",
       "      <td>2</td>\n",
       "      <td>0</td>\n",
       "      <td>0</td>\n",
       "      <td>1</td>\n",
       "      <td>1</td>\n",
       "      <td>68</td>\n",
       "      <td>53.00</td>\n",
       "      <td>3656.25</td>\n",
       "      <td>0</td>\n",
       "      <td>4</td>\n",
       "      <td>0</td>\n",
       "      <td>5.67</td>\n",
       "      <td>0</td>\n",
       "    </tr>\n",
       "  </tbody>\n",
       "</table>\n",
       "</div>"
      ],
      "text/plain": [
       "             contract_type  phone  internet_type  partner  depend  tenure  \\\n",
       "customer_id                                                                 \n",
       "2821-WARNZ               1      1              2        0       1      49   \n",
       "2720-WGKHP               0      1              1        0       0       2   \n",
       "2197-OMWGI               2      0              0        1       1      68   \n",
       "\n",
       "             monthly_charges total_charges  churn  num_add_ons  is_male  \\\n",
       "customer_id                                                               \n",
       "2821-WARNZ             19.45         921.3      0            0        0   \n",
       "2720-WGKHP             94.00         181.7      1            2        1   \n",
       "2197-OMWGI             53.00       3656.25      0            4        0   \n",
       "\n",
       "             tenure_yrs  baseline  \n",
       "customer_id                        \n",
       "2821-WARNZ         4.08         0  \n",
       "2720-WGKHP         0.17         0  \n",
       "2197-OMWGI         5.67         0  "
      ]
     },
     "execution_count": 34,
     "metadata": {},
     "output_type": "execute_result"
    }
   ],
   "source": [
    "train.head(3)"
   ]
  },
  {
   "cell_type": "markdown",
   "metadata": {},
   "source": [
    "### Model 2"
   ]
  },
  {
   "cell_type": "code",
   "execution_count": 35,
   "metadata": {},
   "outputs": [
    {
     "name": "stdout",
     "output_type": "stream",
     "text": [
      "train:  (3943, 3) , validate:  (1691, 3) , test:  (1409, 3)\n",
      "train:  (3943, 1) , validate:  (1691, 1) , test:  (1409, 1)\n"
     ]
    }
   ],
   "source": [
    "# Create a new model\n",
    "\n",
    "X2 = df[['contract_type','tenure_yrs', 'num_add_ons']]\n",
    "y2 = df[['churn']]\n",
    "\n",
    "X2_train_validate, X2_test, y2_train_validate, y2_test = train_test_split(X2, y2, test_size = .20, random_state = 666)\n",
    "\n",
    "X2_train, X2_validate, y2_train, y2_validate = train_test_split(X2_train_validate, y2_train_validate, test_size = .30, random_state = 666)\n",
    "\n",
    "print(\"train: \", X2_train.shape, \", validate: \", X2_validate.shape, \", test: \", X2_test.shape)\n",
    "print(\"train: \", y2_train.shape, \", validate: \", y2_validate.shape, \", test: \", y2_test.shape)"
   ]
  },
  {
   "cell_type": "code",
   "execution_count": 37,
   "metadata": {},
   "outputs": [],
   "source": [
    "# Create the logistic regression object\n",
    "logit = LogisticRegression(C=1, random_state=666)"
   ]
  },
  {
   "cell_type": "code",
   "execution_count": 38,
   "metadata": {},
   "outputs": [
    {
     "data": {
      "text/plain": [
       "LogisticRegression(C=1, random_state=666)"
      ]
     },
     "execution_count": 38,
     "metadata": {},
     "output_type": "execute_result"
    }
   ],
   "source": [
    "# Fit the model to the training data\n",
    "\n",
    "logit.fit(X2_train, y2_train)"
   ]
  },
  {
   "cell_type": "code",
   "execution_count": 39,
   "metadata": {},
   "outputs": [
    {
     "name": "stdout",
     "output_type": "stream",
     "text": [
      "Coefficient: \n",
      " [[-1.30106372 -0.30857264  0.18898971]]\n",
      "Intercept: \n",
      " [-0.10623263]\n"
     ]
    }
   ],
   "source": [
    "# Print the coefficients and intercept of the model\n",
    "\n",
    "print('Coefficient: \\n', logit.coef_)\n",
    "print('Intercept: \\n', logit.intercept_)"
   ]
  },
  {
   "cell_type": "code",
   "execution_count": 40,
   "metadata": {},
   "outputs": [],
   "source": [
    "# Estimate whether or not a custoemr would churn, using the training data\n",
    "\n",
    "y2_pred = logit.predict(X2_train)\n",
    "#y2_pred\n",
    "# above commented out unless you want a bunch of zeros and ones on your screen"
   ]
  },
  {
   "cell_type": "code",
   "execution_count": 41,
   "metadata": {},
   "outputs": [],
   "source": [
    "# Estimate the probability of a customer churning, using the training data\n",
    "\n",
    "y2_pred_proba = logit.predict_proba(X2_train)"
   ]
  },
  {
   "cell_type": "code",
   "execution_count": 42,
   "metadata": {},
   "outputs": [
    {
     "name": "stdout",
     "output_type": "stream",
     "text": [
      "Accuracy of Logistic Regression classifier on training set: 0.75\n"
     ]
    }
   ],
   "source": [
    "# Evaluate Model on Train\n",
    "\n",
    "# Compute the accuracy\n",
    "print('Accuracy of Logistic Regression classifier on training set: {:.2f}'\n",
    "     .format(logit.score(X2_train, y2_train)))"
   ]
  },
  {
   "cell_type": "markdown",
   "metadata": {},
   "source": [
    "#### 75% accuracy is better than our baseline model accuracy of 73.5%."
   ]
  },
  {
   "cell_type": "markdown",
   "metadata": {},
   "source": [
    "### Model 3"
   ]
  },
  {
   "cell_type": "code",
   "execution_count": 43,
   "metadata": {},
   "outputs": [
    {
     "name": "stdout",
     "output_type": "stream",
     "text": [
      "train:  (3943, 1) , validate:  (1691, 1) , test:  (1409, 1)\n",
      "train:  (3943, 1) , validate:  (1691, 1) , test:  (1409, 1)\n"
     ]
    }
   ],
   "source": [
    "# Create new model\n",
    "\n",
    "X3 = df[['monthly_charges']]\n",
    "y3 = df[['churn']]\n",
    "\n",
    "X3_train_validate, X3_test, y3_train_validate, y3_test = train_test_split(X3, y3, test_size = .20, random_state = 666)\n",
    "\n",
    "X3_train, X3_validate, y3_train, y3_validate = train_test_split(X3_train_validate, y3_train_validate, test_size = .30, random_state = 666)\n",
    "\n",
    "print(\"train: \", X3_train.shape, \", validate: \", X3_validate.shape, \", test: \", X3_test.shape)\n",
    "print(\"train: \", y3_train.shape, \", validate: \", y3_validate.shape, \", test: \", y3_test.shape)"
   ]
  },
  {
   "cell_type": "code",
   "execution_count": 44,
   "metadata": {},
   "outputs": [],
   "source": [
    "# Create the logistic regression object\n",
    "logit2 = LogisticRegression(C=1, random_state=666)"
   ]
  },
  {
   "cell_type": "code",
   "execution_count": 45,
   "metadata": {},
   "outputs": [
    {
     "data": {
      "text/plain": [
       "LogisticRegression(C=1, random_state=666)"
      ]
     },
     "execution_count": 45,
     "metadata": {},
     "output_type": "execute_result"
    }
   ],
   "source": [
    "# Fit the model to the training data\n",
    "\n",
    "logit2.fit(X3_train, y3_train)"
   ]
  },
  {
   "cell_type": "code",
   "execution_count": 46,
   "metadata": {},
   "outputs": [
    {
     "name": "stdout",
     "output_type": "stream",
     "text": [
      "Coefficient: \n",
      " [[0.01514213]]\n",
      "Intercept: \n",
      " [-1.9950211]\n"
     ]
    }
   ],
   "source": [
    "# Print the coefficients and intercept of the model\n",
    "\n",
    "print('Coefficient: \\n', logit2.coef_)\n",
    "print('Intercept: \\n', logit2.intercept_)"
   ]
  },
  {
   "cell_type": "code",
   "execution_count": 47,
   "metadata": {},
   "outputs": [],
   "source": [
    "# Estimate whether or not a customer would churn, using the training data\n",
    "\n",
    "y3_pred = logit2.predict(X3_train)"
   ]
  },
  {
   "cell_type": "code",
   "execution_count": 48,
   "metadata": {},
   "outputs": [],
   "source": [
    "# Estimate the probability\n",
    "\n",
    "y3_pred_proba = logit2.predict_proba(X3_train)"
   ]
  },
  {
   "cell_type": "code",
   "execution_count": 49,
   "metadata": {},
   "outputs": [
    {
     "name": "stdout",
     "output_type": "stream",
     "text": [
      "Accuracy of Logistic Regression classifier on training set: 0.72\n"
     ]
    }
   ],
   "source": [
    "# Evaluate Model on Train\n",
    "\n",
    "# Compute the accuracy\n",
    "print('Accuracy of Logistic Regression classifier on training set: {:.2f}'\n",
    "     .format(logit2.score(X3_train, y3_train)))"
   ]
  },
  {
   "cell_type": "markdown",
   "metadata": {},
   "source": [
    "#### This model has 72% accuracy, so it performs below our baseline model of 73.5%."
   ]
  },
  {
   "cell_type": "markdown",
   "metadata": {},
   "source": [
    "### Evaluation Metrics"
   ]
  },
  {
   "cell_type": "code",
   "execution_count": 55,
   "metadata": {},
   "outputs": [
    {
     "name": "stdout",
     "output_type": "stream",
     "text": [
      "Model 1\n",
      "Confusion matrix:\n",
      " [[2642  215]\n",
      " [ 753  333]]\n",
      "Classification report:\n",
      "               precision    recall  f1-score   support\n",
      "\n",
      "           0       0.78      0.92      0.85      2857\n",
      "           1       0.61      0.31      0.41      1086\n",
      "\n",
      "    accuracy                           0.75      3943\n",
      "   macro avg       0.69      0.62      0.63      3943\n",
      "weighted avg       0.73      0.75      0.72      3943\n",
      "\n",
      "Model 2\n",
      "Confusion matrix:\n",
      " [[2857    0]\n",
      " [1086    0]]\n",
      "Classification report:\n",
      "               precision    recall  f1-score   support\n",
      "\n",
      "           0       0.72      1.00      0.84      2857\n",
      "           1       0.00      0.00      0.00      1086\n",
      "\n",
      "    accuracy                           0.72      3943\n",
      "   macro avg       0.36      0.50      0.42      3943\n",
      "weighted avg       0.53      0.72      0.61      3943\n",
      "\n"
     ]
    }
   ],
   "source": [
    "# prediction comes first this time so we can make our positive case a Defect duck.\n",
    "\n",
    "print('Model 2')\n",
    "print(\"Confusion matrix:\\n\", confusion_matrix(y2_train, y2_pred))\n",
    "print(\"Classification report:\\n\", classification_report(y2_train, y2_pred))\n",
    "\n",
    "print('Model 3')\n",
    "print(\"Confusion matrix:\\n\", confusion_matrix(y3_train, y3_pred))\n",
    "print(\"Classification report:\\n\", classification_report(y3_train, y3_pred))"
   ]
  },
  {
   "cell_type": "markdown",
   "metadata": {},
   "source": [
    "### Choose Best Model and Test"
   ]
  },
  {
   "cell_type": "markdown",
   "metadata": {},
   "source": [
    "#### Which model performs best on your out-of-sample data, the validate set?"
   ]
  },
  {
   "cell_type": "code",
   "execution_count": 60,
   "metadata": {},
   "outputs": [
    {
     "name": "stdout",
     "output_type": "stream",
     "text": [
      "Baseline/model 1 accuracy is 0.73\n",
      "Accuracy of Model 2 Logistic Regression classifier on validation set: 0.76\n",
      "Accuracy of Model 3 Logistic Regression classifier on validation set: 0.74\n"
     ]
    }
   ],
   "source": [
    "print('Baseline/model 1 accuracy is 0.73')\n",
    "print('Accuracy of Model 2 Logistic Regression classifier on validation set: {:.2f}'\n",
    "     .format(logit.score(X2_validate, y2_validate)))\n",
    "print('Accuracy of Model 3 Logistic Regression classifier on validation set: {:.2f}'\n",
    "     .format(logit2.score(X3_validate, y3_validate)))"
   ]
  },
  {
   "cell_type": "markdown",
   "metadata": {},
   "source": [
    "The best model was Model 2, so I'll test that model on the Test data."
   ]
  },
  {
   "cell_type": "code",
   "execution_count": 61,
   "metadata": {},
   "outputs": [
    {
     "name": "stdout",
     "output_type": "stream",
     "text": [
      "Baseline/model 1 accuracy is 0.73\n",
      "Accuracy of Model 2 Logistic Regression classifier on test set: 0.76\n",
      "Accuracy of Model 3 Logistic Regression classifier on test set: 0.75\n"
     ]
    }
   ],
   "source": [
    "print('Baseline/model 1 accuracy is 0.73')\n",
    "print('Accuracy of Model 2 Logistic Regression classifier on test set: {:.2f}'\n",
    "     .format(logit.score(X2_test, y2_test)))\n",
    "print('Accuracy of Model 3 Logistic Regression classifier on test set: {:.2f}'\n",
    "     .format(logit2.score(X3_test, y3_test)))"
   ]
  },
  {
   "cell_type": "markdown",
   "metadata": {},
   "source": [
    "### The best model was the logistic regression model with features 'contract_type','tenure_yrs', 'num_add_ons'"
   ]
  },
  {
   "cell_type": "markdown",
   "metadata": {},
   "source": [
    "# Conclusions"
   ]
  },
  {
   "cell_type": "markdown",
   "metadata": {},
   "source": [
    "### * Churn's primary drivers are contract type, tenure, monthly charges, and number of add-on services.\n",
    "### * Linear regression model with 'contract_type','tenure_yrs', 'num_add_ons' performed the best\n",
    "### * We can reduce churn by predicting which customers are about to churn and reaching out to those customers"
   ]
  }
 ],
 "metadata": {
  "kernelspec": {
   "display_name": "Python 3",
   "language": "python",
   "name": "python3"
  },
  "language_info": {
   "codemirror_mode": {
    "name": "ipython",
    "version": 3
   },
   "file_extension": ".py",
   "mimetype": "text/x-python",
   "name": "python",
   "nbconvert_exporter": "python",
   "pygments_lexer": "ipython3",
   "version": "3.8.3"
  }
 },
 "nbformat": 4,
 "nbformat_minor": 4
}
